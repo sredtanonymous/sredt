{
 "cells": [
  {
   "cell_type": "code",
   "execution_count": 1,
   "metadata": {
    "colab": {
     "base_uri": "https://localhost:8080/"
    },
    "id": "tLRLwFXd4IL_",
    "outputId": "09ce3dde-70cf-45ee-e87a-a3027a632e21"
   },
   "outputs": [
    {
     "name": "stdout",
     "output_type": "stream",
     "text": [
      "Requirement already satisfied: gplearn==0.4.1 in c:\\users\\fongks\\anaconda3\\lib\\site-packages (from -r requirements.txt (line 1)) (0.4.1)\n",
      "Requirement already satisfied: scikit-learn>=0.20.0 in c:\\users\\fongks\\anaconda3\\lib\\site-packages (from gplearn==0.4.1->-r requirements.txt (line 1)) (1.0.1)\n",
      "Requirement already satisfied: joblib>=0.13.0 in c:\\users\\fongks\\anaconda3\\lib\\site-packages (from gplearn==0.4.1->-r requirements.txt (line 1)) (1.0.1)\n",
      "Requirement already satisfied: threadpoolctl>=2.0.0 in c:\\users\\fongks\\anaconda3\\lib\\site-packages (from scikit-learn>=0.20.0->gplearn==0.4.1->-r requirements.txt (line 1)) (2.1.0)\n",
      "Requirement already satisfied: numpy>=1.14.6 in c:\\users\\fongks\\anaconda3\\lib\\site-packages (from scikit-learn>=0.20.0->gplearn==0.4.1->-r requirements.txt (line 1)) (1.19.5)\n",
      "Requirement already satisfied: scipy>=1.1.0 in c:\\users\\fongks\\anaconda3\\lib\\site-packages (from scikit-learn>=0.20.0->gplearn==0.4.1->-r requirements.txt (line 1)) (1.5.4)\n"
     ]
    }
   ],
   "source": [
    "!pip install -r requirements.txt"
   ]
  },
  {
   "cell_type": "code",
   "execution_count": 2,
   "metadata": {
    "id": "HGC1Knxe5d8i"
   },
   "outputs": [],
   "source": [
    "from SRClassifier import *\n",
    "from sklearn.model_selection import train_test_split\n",
    "from sklearn.preprocessing import OrdinalEncoder\n",
    "df = pd.read_excel(\"Raisin_Dataset.xlsx\")"
   ]
  },
  {
   "cell_type": "code",
   "execution_count": 3,
   "metadata": {
    "colab": {
     "base_uri": "https://localhost:8080/"
    },
    "id": "Uo7NAIlO2Bsm",
    "outputId": "2a1c6b9a-c577-41ad-a1c5-b377fadd595d"
   },
   "outputs": [
    {
     "name": "stdout",
     "output_type": "stream",
     "text": [
      "    |   Population Average    |             Best Individual              |\n",
      "---- ------------------------- ------------------------------------------ ----------\n",
      " Gen   Length          Fitness   Length          Fitness      OOB Fitness  Time Left\n",
      "   0    30.23          0.31136       31         0.209093              N/A     18.86s\n",
      "   1     6.08          0.28212        7          0.21363              N/A     16.50s\n",
      "   2     7.03         0.257246        9         0.212295              N/A     14.13s\n",
      "   3     4.97         0.251996        9         0.211849              N/A     12.18s\n",
      "   4     5.21         0.247226        9         0.211849              N/A     10.04s\n",
      "   5     5.08         0.245907        9         0.211849              N/A      8.15s\n",
      "   6     5.00         0.234883        9         0.211849              N/A      6.14s\n",
      "   7     5.18         0.239638        9         0.211849              N/A      4.03s\n",
      "   8     5.04          0.23934        9         0.211849              N/A      2.05s\n",
      "   9     5.11         0.244763        9         0.211849              N/A      0.00s\n",
      "    |   Population Average    |             Best Individual              |\n",
      "---- ------------------------- ------------------------------------------ ----------\n",
      " Gen   Length          Fitness   Length          Fitness      OOB Fitness  Time Left\n",
      "   0    30.23         0.236376      127         0.222507              N/A     10.43s\n",
      "   1     6.40         0.229961        7         0.222263              N/A      9.37s\n",
      "   2     3.04         0.228038        3         0.224928              N/A      7.85s\n",
      "   3     3.04         0.227797        3         0.224928              N/A      6.70s\n",
      "   4     3.10         0.227767        3         0.224928              N/A      5.60s\n",
      "   5     3.06         0.228022        3         0.224928              N/A      4.53s\n",
      "   6     2.97          0.22774        3         0.224928              N/A      3.39s\n",
      "   7     3.10         0.227667        3         0.224928              N/A      2.24s\n",
      "   8     3.04         0.227856        3         0.224928              N/A      1.12s\n",
      "   9     3.08         0.228028        3         0.224928              N/A      0.00s\n",
      "    |   Population Average    |             Best Individual              |\n",
      "---- ------------------------- ------------------------------------------ ----------\n",
      " Gen   Length          Fitness   Length          Fitness      OOB Fitness  Time Left\n",
      "   0    30.23         0.158884       63         0.139723              N/A      9.50s\n",
      "   1     3.75         0.149354        5         0.140219              N/A      8.23s\n",
      "   2     4.37         0.146797        5         0.140219              N/A      7.17s\n",
      "   3     4.96         0.147895        5         0.140219              N/A      6.38s\n",
      "   4     5.19         0.149057        5         0.140219              N/A      5.16s\n",
      "   5     5.05         0.148228        5         0.140219              N/A      4.12s\n",
      "   6     5.04         0.148799        5         0.140219              N/A      3.09s\n",
      "   7     5.25          0.15015        5         0.140219              N/A      2.06s\n",
      "   8     5.04         0.148252        5         0.140219              N/A      1.03s\n",
      "   9     5.12         0.150174        5         0.140219              N/A      0.00s\n",
      "Predicted Labels for Training: [1 1 0 1 0 0 0 1 0 0 1 1 1 0 1 1 1 1 1 1 0 1 1 0 0 0 1 0 0 0 1 0 1 0 1 1 0\n",
      " 0 1 0 0 1 0 1 1 0 1 0 1 0 1 1 1 0 1 1 0 1 1 1 0 1 0 1 1 0 0 1 1 0 0 1 1 1\n",
      " 1 1 1 0 0 1 0 0 0 0 0 1 0 0 0 1 0 1 0 1 1 0 1 0 1 0 1 0 0 1 1 0 0 0 1 1 1\n",
      " 0 1 0 1 1 1 0 1 0 0 0 1 1 0 1 1 0 1 1 0 1 1 0 0 1 1 1 0 1 0 1 1 0 1 1 1 1\n",
      " 1 0 0 1 1 1 1 1 1 0 0 0 1 0 0 1 0 0 0 1 1 1 1 0 1 1 1 1 0 1 1 1 0 1 0 0 1\n",
      " 1 0 1 0 1 1 0 0 0 1 0 0 1 1 0 1 1 0 1 1 0 1 1 0 0 1 0 0 0 1 1 1 1 1 0 1 0\n",
      " 1 1 1 1 0 0 0 1 1 1 0 1 1 0 1 1 1 0 0 0 0 0 1 1 1 1 0 1 1 0 0 1 1 0 0 0 0\n",
      " 1 0 1 1 1 1 0 0 1 1 0 0 0 0 0 0 0 1 1 0 0 1 1 0 0 0 0 1 0 1 0 0 1 0 1 0 1\n",
      " 1 0 1 0 0 0 0 0 0 0 0 1 1 0 1 1 1 0 1 0 0 0 0 1 0 0 0 0 1 1 0 1 1 1 0 0 0\n",
      " 1 0 0 0 1 0 1 1 1 0 0 1 0 0 0 0 1 0 1 1 0 0 1 1 1 1 1 1 0 0 1 1 1 0 1 1 0\n",
      " 0 0 1 1 0 1 0 1 0 0 0 0 0 0 1 1 0 1 1 0 1 1 0 0 1 1 1 0 0 0 0 0 0 0 1 0 0\n",
      " 0 0 0 0 1 1 0 0 1 0 0 1 0 0 1 1 0 1 1 1 1 0 0 1 0 0 1 0 0 1 0 1 1 0 1 0 0\n",
      " 1 1 0 1 1 1 1 0 0 0 0 1 0 1 1 0 1 0 1 0 1 1 1 1 0 1 0 0 1 1 0 0 1 1 1 1 0\n",
      " 1 1 1 1 1 1 1 1 1 1 0 1 1 1 0 1 1 0 0 1 0 0 1 1 1 0 1 1 0 1 0 1 1 1 0 1 1\n",
      " 1 0 1 0 1 1 0 0 1 0 1 0 1 0 0 1 1 1 0 1 1 1 0 1 1 1 1 0 1 0 1 1 1 0 1 1 1\n",
      " 1 1 0 1 1 0 1 1 1 0 0 0 1 1 1 0 1 1 0 0 0 1 1 0 0 0 1 1 1 1 1 1 0 0 0 1 1\n",
      " 0 1 1 0 0 0 1 0 1 0 1 0 0 0 1 1 1 0 0 1 1 0 0 0 0 0 0 1 0 1 1 0 0 0 1 0 0\n",
      " 0]\n",
      "Train Accuracy: 0.8825396825396825\n",
      "Test Accuracy: 0.8703703703703703\n"
     ]
    }
   ],
   "source": [
    "encoder = OrdinalEncoder()\n",
    "\n",
    "X, y = np.array(df.iloc[:,:-1]), encoder.fit_transform(np.array(df.iloc[:,[-1]])).flatten().astype('int64')\n",
    "X_train, X_test, y_train, y_test = train_test_split(X, y, test_size=0.3, random_state=0)\n",
    "\n",
    "clf = SRClassifier(max_depth=2,random_state=1)\n",
    "clf.fit(X,y)\n",
    "print(f\"Predicted Labels for Training: {clf.predict(X_train)}\")\n",
    "print(f\"Train Accuracy: {sum([1 if i==j else 0 for i,j in zip(clf.predict(X_train),y_train)])/len(y_train)}\")\n",
    "print(f\"Test Accuracy: {sum([1 if i==j else 0 for i,j in zip(clf.predict(X_test),y_test)])/len(y_test)}\")"
   ]
  }
 ],
 "metadata": {
  "colab": {
   "collapsed_sections": [],
   "name": "SR_Classifier.ipynb",
   "provenance": []
  },
  "kernelspec": {
   "display_name": "Python 3",
   "language": "python",
   "name": "python3"
  },
  "language_info": {
   "codemirror_mode": {
    "name": "ipython",
    "version": 3
   },
   "file_extension": ".py",
   "mimetype": "text/x-python",
   "name": "python",
   "nbconvert_exporter": "python",
   "pygments_lexer": "ipython3",
   "version": "3.8.8"
  }
 },
 "nbformat": 4,
 "nbformat_minor": 1
}
